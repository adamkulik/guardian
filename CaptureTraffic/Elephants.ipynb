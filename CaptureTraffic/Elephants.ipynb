{
 "cells": [
  {
   "cell_type": "code",
   "execution_count": 4,
   "metadata": {},
   "outputs": [
    {
     "name": "stdout",
     "output_type": "stream",
     "text": [
      "Requirement already satisfied: pandas in c:\\users\\kinga\\appdata\\roaming\\python\\python38\\site-packages (2.0.3)\n",
      "Requirement already satisfied: tzdata>=2022.1 in e:\\programs\\anaconda3\\lib\\site-packages (from pandas) (2023.3)\n",
      "Requirement already satisfied: pytz>=2020.1 in e:\\programs\\anaconda3\\lib\\site-packages (from pandas) (2020.1)\n",
      "Requirement already satisfied: python-dateutil>=2.8.2 in e:\\programs\\anaconda3\\lib\\site-packages (from pandas) (2.8.2)\n",
      "Note: you may need to restart the kernel to use updated packages.\n",
      "Requirement already satisfied: numpy>=1.20.3; python_version < \"3.10\" in e:\\programs\\anaconda3\\lib\\site-packages (from pandas) (1.24.4)\n",
      "Requirement already satisfied: six>=1.5 in e:\\programs\\anaconda3\\lib\\site-packages (from python-dateutil>=2.8.2->pandas) (1.15.0)\n"
     ]
    }
   ],
   "source": [
    "pip install pandas"
   ]
  },
  {
   "cell_type": "code",
   "execution_count": 7,
   "metadata": {},
   "outputs": [],
   "source": [
    "import pandas as pd"
   ]
  },
  {
   "cell_type": "code",
   "execution_count": 37,
   "metadata": {},
   "outputs": [
    {
     "name": "stdout",
     "output_type": "stream",
     "text": [
      "Collecting pandas\n",
      "  Using cached pandas-2.0.3-cp38-cp38-win_amd64.whl (10.8 MB)\n",
      "Requirement already satisfied, skipping upgrade: python-dateutil>=2.8.2 in e:\\programs\\anaconda3\\lib\\site-packages (from pandas) (2.8.2)\n",
      "Requirement already satisfied, skipping upgrade: tzdata>=2022.1 in e:\\programs\\anaconda3\\lib\\site-packages (from pandas) (2023.3)\n",
      "Requirement already satisfied, skipping upgrade: pytz>=2020.1 in e:\\programs\\anaconda3\\lib\\site-packages (from pandas) (2020.1)\n",
      "Requirement already satisfied, skipping upgrade: numpy>=1.20.3; python_version < \"3.10\" in e:\\programs\\anaconda3\\lib\\site-packages (from pandas) (1.24.4)\n",
      "Requirement already satisfied, skipping upgrade: six>=1.5 in e:\\programs\\anaconda3\\lib\\site-packages (from python-dateutil>=2.8.2->pandas) (1.15.0)\n",
      "Installing collected packages: pandas\n",
      "Successfully installed pandas-2.0.3\n",
      "Note: you may need to restart the kernel to use updated packages.\n"
     ]
    }
   ],
   "source": [
    "pip install --upgrade pandas --user"
   ]
  },
  {
   "cell_type": "code",
   "execution_count": 85,
   "metadata": {},
   "outputs": [
    {
     "data": {
      "text/html": [
       "<div>\n",
       "<style scoped>\n",
       "    .dataframe tbody tr th:only-of-type {\n",
       "        vertical-align: middle;\n",
       "    }\n",
       "\n",
       "    .dataframe tbody tr th {\n",
       "        vertical-align: top;\n",
       "    }\n",
       "\n",
       "    .dataframe thead th {\n",
       "        text-align: right;\n",
       "    }\n",
       "</style>\n",
       "<table border=\"1\" class=\"dataframe\">\n",
       "  <thead>\n",
       "    <tr style=\"text-align: right;\">\n",
       "      <th></th>\n",
       "      <th>alertTime</th>\n",
       "      <th>alertText</th>\n",
       "    </tr>\n",
       "  </thead>\n",
       "  <tbody>\n",
       "    <tr>\n",
       "      <th>0</th>\n",
       "      <td>2023-10-21T13:09:05.0083813+02:00</td>\n",
       "      <td>suicidal</td>\n",
       "    </tr>\n",
       "    <tr>\n",
       "      <th>1</th>\n",
       "      <td>2023-10-21T13:09:45.9878597+02:00</td>\n",
       "      <td>depressed</td>\n",
       "    </tr>\n",
       "    <tr>\n",
       "      <th>2</th>\n",
       "      <td>2023-10-21T13:10:28.0805099+02:00</td>\n",
       "      <td>neutral</td>\n",
       "    </tr>\n",
       "    <tr>\n",
       "      <th>3</th>\n",
       "      <td>2023-10-21T13:33:05.9269593+02:00</td>\n",
       "      <td>None</td>\n",
       "    </tr>\n",
       "    <tr>\n",
       "      <th>4</th>\n",
       "      <td>2023-10-21T13:34:28.5640619+02:00</td>\n",
       "      <td>depressed</td>\n",
       "    </tr>\n",
       "    <tr>\n",
       "      <th>5</th>\n",
       "      <td>2023-10-21T13:34:39.1748202+02:00</td>\n",
       "      <td>neutral</td>\n",
       "    </tr>\n",
       "    <tr>\n",
       "      <th>6</th>\n",
       "      <td>2023-10-21T13:34:53.4221346+02:00</td>\n",
       "      <td>neutral</td>\n",
       "    </tr>\n",
       "    <tr>\n",
       "      <th>7</th>\n",
       "      <td>2023-10-21T13:35:11.6335513+02:00</td>\n",
       "      <td>panic attack</td>\n",
       "    </tr>\n",
       "    <tr>\n",
       "      <th>8</th>\n",
       "      <td>2023-10-21T13:35:15.7661168+02:00</td>\n",
       "      <td>neutral</td>\n",
       "    </tr>\n",
       "    <tr>\n",
       "      <th>9</th>\n",
       "      <td>2023-10-21T13:35:24.8611079+02:00</td>\n",
       "      <td>panic attack</td>\n",
       "    </tr>\n",
       "    <tr>\n",
       "      <th>10</th>\n",
       "      <td>2023-10-21T13:35:56.150346+02:00</td>\n",
       "      <td>suicidal</td>\n",
       "    </tr>\n",
       "    <tr>\n",
       "      <th>11</th>\n",
       "      <td>2023-10-21T13:36:24.8780017+02:00</td>\n",
       "      <td>depressed</td>\n",
       "    </tr>\n",
       "    <tr>\n",
       "      <th>12</th>\n",
       "      <td>2023-10-21T13:37:46.0098021+02:00</td>\n",
       "      <td>None</td>\n",
       "    </tr>\n",
       "    <tr>\n",
       "      <th>13</th>\n",
       "      <td>2023-10-21T13:38:23.7970252+02:00</td>\n",
       "      <td>suicidal</td>\n",
       "    </tr>\n",
       "    <tr>\n",
       "      <th>14</th>\n",
       "      <td>2023-10-21T14:13:09.031312+02:00</td>\n",
       "      <td>addictions</td>\n",
       "    </tr>\n",
       "    <tr>\n",
       "      <th>15</th>\n",
       "      <td>2023-10-21T14:13:45.2990022+02:00</td>\n",
       "      <td>suicidal</td>\n",
       "    </tr>\n",
       "    <tr>\n",
       "      <th>16</th>\n",
       "      <td>2023-10-21T15:26:25.7790434+02:00</td>\n",
       "      <td>neutral</td>\n",
       "    </tr>\n",
       "    <tr>\n",
       "      <th>17</th>\n",
       "      <td>2023-10-21T15:26:59.9012033+02:00</td>\n",
       "      <td>neutral</td>\n",
       "    </tr>\n",
       "    <tr>\n",
       "      <th>18</th>\n",
       "      <td>2023-10-21T21:02:51.1763038+02:00</td>\n",
       "      <td>fears</td>\n",
       "    </tr>\n",
       "    <tr>\n",
       "      <th>19</th>\n",
       "      <td>2023-10-21T21:03:51.6331634+02:00</td>\n",
       "      <td>mental exhaustion</td>\n",
       "    </tr>\n",
       "    <tr>\n",
       "      <th>20</th>\n",
       "      <td>2023-10-21T21:04:13.051425+02:00</td>\n",
       "      <td>neutral</td>\n",
       "    </tr>\n",
       "    <tr>\n",
       "      <th>21</th>\n",
       "      <td>2023-10-21T21:04:22.8441996+02:00</td>\n",
       "      <td>addictions</td>\n",
       "    </tr>\n",
       "    <tr>\n",
       "      <th>22</th>\n",
       "      <td>2023-10-21T21:04:42.1630834+02:00</td>\n",
       "      <td>addictions</td>\n",
       "    </tr>\n",
       "    <tr>\n",
       "      <th>23</th>\n",
       "      <td>2023-10-21T21:05:13.9575132+02:00</td>\n",
       "      <td>neutral</td>\n",
       "    </tr>\n",
       "    <tr>\n",
       "      <th>24</th>\n",
       "      <td>2023-10-21T21:08:14.3353606+02:00</td>\n",
       "      <td>abuse</td>\n",
       "    </tr>\n",
       "    <tr>\n",
       "      <th>25</th>\n",
       "      <td>2023-10-21T21:13:08.0376824+02:00</td>\n",
       "      <td>neutral</td>\n",
       "    </tr>\n",
       "    <tr>\n",
       "      <th>26</th>\n",
       "      <td>2023-10-21T21:13:16.9839028+02:00</td>\n",
       "      <td>neutral</td>\n",
       "    </tr>\n",
       "    <tr>\n",
       "      <th>27</th>\n",
       "      <td>2023-10-21T21:13:29.4635099+02:00</td>\n",
       "      <td>depression</td>\n",
       "    </tr>\n",
       "    <tr>\n",
       "      <th>28</th>\n",
       "      <td>2023-10-21T21:13:39.5754675+02:00</td>\n",
       "      <td>depression</td>\n",
       "    </tr>\n",
       "    <tr>\n",
       "      <th>29</th>\n",
       "      <td>2023-10-21T21:13:51.6766319+02:00</td>\n",
       "      <td>depression</td>\n",
       "    </tr>\n",
       "    <tr>\n",
       "      <th>30</th>\n",
       "      <td>2023-10-21T21:13:58.0949898+02:00</td>\n",
       "      <td>neutral</td>\n",
       "    </tr>\n",
       "    <tr>\n",
       "      <th>31</th>\n",
       "      <td>2023-10-21T21:14:02.997011+02:00</td>\n",
       "      <td>panic attack</td>\n",
       "    </tr>\n",
       "    <tr>\n",
       "      <th>32</th>\n",
       "      <td>2023-10-21T21:14:11.6049654+02:00</td>\n",
       "      <td>depression</td>\n",
       "    </tr>\n",
       "    <tr>\n",
       "      <th>33</th>\n",
       "      <td>2023-10-21T21:14:23.952185+02:00</td>\n",
       "      <td>depression</td>\n",
       "    </tr>\n",
       "    <tr>\n",
       "      <th>34</th>\n",
       "      <td>2023-10-21T21:14:38.3451941+02:00</td>\n",
       "      <td>depression</td>\n",
       "    </tr>\n",
       "    <tr>\n",
       "      <th>35</th>\n",
       "      <td>2023-10-21T21:17:39.6176339+02:00</td>\n",
       "      <td>neutral</td>\n",
       "    </tr>\n",
       "    <tr>\n",
       "      <th>36</th>\n",
       "      <td>2023-10-21T21:17:42.7270328+02:00</td>\n",
       "      <td>neutral</td>\n",
       "    </tr>\n",
       "    <tr>\n",
       "      <th>37</th>\n",
       "      <td>2023-10-21T21:17:43.206363+02:00</td>\n",
       "      <td>neutral</td>\n",
       "    </tr>\n",
       "    <tr>\n",
       "      <th>38</th>\n",
       "      <td>2023-10-21T21:17:55.4174691+02:00</td>\n",
       "      <td>neutral</td>\n",
       "    </tr>\n",
       "    <tr>\n",
       "      <th>39</th>\n",
       "      <td>2023-10-21T21:19:42.4938164+02:00</td>\n",
       "      <td>neutral</td>\n",
       "    </tr>\n",
       "    <tr>\n",
       "      <th>40</th>\n",
       "      <td>2023-10-21T21:19:55.4368721+02:00</td>\n",
       "      <td>neutral</td>\n",
       "    </tr>\n",
       "    <tr>\n",
       "      <th>41</th>\n",
       "      <td>2023-10-21T21:19:55.918718+02:00</td>\n",
       "      <td>neutral</td>\n",
       "    </tr>\n",
       "    <tr>\n",
       "      <th>42</th>\n",
       "      <td>2023-10-21T21:20:08.8906638+02:00</td>\n",
       "      <td>neutral</td>\n",
       "    </tr>\n",
       "  </tbody>\n",
       "</table>\n",
       "</div>"
      ],
      "text/plain": [
       "                            alertTime          alertText\n",
       "0   2023-10-21T13:09:05.0083813+02:00           suicidal\n",
       "1   2023-10-21T13:09:45.9878597+02:00          depressed\n",
       "2   2023-10-21T13:10:28.0805099+02:00            neutral\n",
       "3   2023-10-21T13:33:05.9269593+02:00               None\n",
       "4   2023-10-21T13:34:28.5640619+02:00          depressed\n",
       "5   2023-10-21T13:34:39.1748202+02:00            neutral\n",
       "6   2023-10-21T13:34:53.4221346+02:00            neutral\n",
       "7   2023-10-21T13:35:11.6335513+02:00       panic attack\n",
       "8   2023-10-21T13:35:15.7661168+02:00            neutral\n",
       "9   2023-10-21T13:35:24.8611079+02:00       panic attack\n",
       "10   2023-10-21T13:35:56.150346+02:00           suicidal\n",
       "11  2023-10-21T13:36:24.8780017+02:00          depressed\n",
       "12  2023-10-21T13:37:46.0098021+02:00               None\n",
       "13  2023-10-21T13:38:23.7970252+02:00           suicidal\n",
       "14   2023-10-21T14:13:09.031312+02:00         addictions\n",
       "15  2023-10-21T14:13:45.2990022+02:00           suicidal\n",
       "16  2023-10-21T15:26:25.7790434+02:00            neutral\n",
       "17  2023-10-21T15:26:59.9012033+02:00            neutral\n",
       "18  2023-10-21T21:02:51.1763038+02:00              fears\n",
       "19  2023-10-21T21:03:51.6331634+02:00  mental exhaustion\n",
       "20   2023-10-21T21:04:13.051425+02:00            neutral\n",
       "21  2023-10-21T21:04:22.8441996+02:00         addictions\n",
       "22  2023-10-21T21:04:42.1630834+02:00         addictions\n",
       "23  2023-10-21T21:05:13.9575132+02:00            neutral\n",
       "24  2023-10-21T21:08:14.3353606+02:00              abuse\n",
       "25  2023-10-21T21:13:08.0376824+02:00            neutral\n",
       "26  2023-10-21T21:13:16.9839028+02:00            neutral\n",
       "27  2023-10-21T21:13:29.4635099+02:00         depression\n",
       "28  2023-10-21T21:13:39.5754675+02:00         depression\n",
       "29  2023-10-21T21:13:51.6766319+02:00         depression\n",
       "30  2023-10-21T21:13:58.0949898+02:00            neutral\n",
       "31   2023-10-21T21:14:02.997011+02:00       panic attack\n",
       "32  2023-10-21T21:14:11.6049654+02:00         depression\n",
       "33   2023-10-21T21:14:23.952185+02:00         depression\n",
       "34  2023-10-21T21:14:38.3451941+02:00         depression\n",
       "35  2023-10-21T21:17:39.6176339+02:00            neutral\n",
       "36  2023-10-21T21:17:42.7270328+02:00            neutral\n",
       "37   2023-10-21T21:17:43.206363+02:00            neutral\n",
       "38  2023-10-21T21:17:55.4174691+02:00            neutral\n",
       "39  2023-10-21T21:19:42.4938164+02:00            neutral\n",
       "40  2023-10-21T21:19:55.4368721+02:00            neutral\n",
       "41   2023-10-21T21:19:55.918718+02:00            neutral\n",
       "42  2023-10-21T21:20:08.8906638+02:00            neutral"
      ]
     },
     "execution_count": 85,
     "metadata": {},
     "output_type": "execute_result"
    }
   ],
   "source": [
    "pd.read_xml('C:\\\\Guardian\\\\alertList.xml', xpath=\".//AlertRecord\")"
   ]
  },
  {
   "cell_type": "code",
   "execution_count": 86,
   "metadata": {},
   "outputs": [],
   "source": [
    "df = pd.read_xml('C:\\\\Guardian\\\\alertList.xml', xpath=\".//AlertRecord\")"
   ]
  },
  {
   "cell_type": "code",
   "execution_count": 87,
   "metadata": {},
   "outputs": [],
   "source": [
    "occurences = df['alertText'].value_counts(dropna=True)"
   ]
  },
  {
   "cell_type": "code",
   "execution_count": 16,
   "metadata": {},
   "outputs": [
    {
     "name": "stdout",
     "output_type": "stream",
     "text": [
      "Requirement already satisfied: numpy in e:\\programs\\anaconda3\\lib\\site-packages (1.24.4)\n",
      "Note: you may need to restart the kernel to use updated packages.\n"
     ]
    }
   ],
   "source": [
    "pip install numpy"
   ]
  },
  {
   "cell_type": "code",
   "execution_count": 17,
   "metadata": {},
   "outputs": [],
   "source": [
    "import numpy as np"
   ]
  },
  {
   "cell_type": "code",
   "execution_count": 60,
   "metadata": {},
   "outputs": [],
   "source": [
    "alarmingList = [\"panic attack\", \"depression\", \"mental exhaustion\", \"fears\", \"problem with learning\", \"loneliness\", \"problem with peers\", \"attention deficit\"]\n",
    "dangerousList = [\"suicidal\", \"bullying\", \"cyberbullying\", \"suicidal thoughts\", \"abuse\", \"addictions\", \"suicide\"]"
   ]
  },
  {
   "cell_type": "code",
   "execution_count": 88,
   "metadata": {},
   "outputs": [],
   "source": [
    "alarmingOccurences = occurences[occurences.keys().isin(alarmingList)]"
   ]
  },
  {
   "cell_type": "code",
   "execution_count": 89,
   "metadata": {},
   "outputs": [],
   "source": [
    "dangerousOccurences = occurences[occurences.keys().isin(dangerousList)]"
   ]
  },
  {
   "cell_type": "code",
   "execution_count": 90,
   "metadata": {},
   "outputs": [
    {
     "data": {
      "image/png": "[encoded data removed]",
      "text/plain": [
       "<Figure size 432x288 with 1 Axes>"
      ]
     },
     "metadata": {
      "needs_background": "light"
     },
     "output_type": "display_data"
    }
   ],
   "source": [
    "ax = dangerousOccurences.plot.bar(rot=0, color = '#e30909', title = 'Alerts!')"
   ]
  },
  {
   "cell_type": "code",
   "execution_count": 91,
   "metadata": {},
   "outputs": [
    {
     "data": {
      "image/png": "[encoded data removed]",
      "text/plain": [
       "<Figure size 432x288 with 1 Axes>"
      ]
     },
     "metadata": {
      "needs_background": "light"
     },
     "output_type": "display_data"
    }
   ],
   "source": [
    "ax = alarmingOccurences.plot.bar(rot=0, color = '#e37209', title = 'Warnings')"
   ]
  },
  {
   "cell_type": "code",
   "execution_count": null,
   "metadata": {},
   "outputs": [],
   "source": []
  }
 ],
 "metadata": {
  "kernelspec": {
   "display_name": "Python 3",
   "language": "python",
   "name": "python3"
  },
  "language_info": {
   "codemirror_mode": {
    "name": "ipython",
    "version": 3
   },
   "file_extension": ".py",
   "mimetype": "text/x-python",
   "name": "python",
   "nbconvert_exporter": "python",
   "pygments_lexer": "ipython3",
   "version": "3.8.3"
  }
 },
 "nbformat": 4,
 "nbformat_minor": 4
}
